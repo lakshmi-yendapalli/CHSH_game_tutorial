{
 "cells": [
  {
   "cell_type": "markdown",
   "id": "5c7f8305-793d-4a78-8ff9-18aac08aa254",
   "metadata": {},
   "source": [
    "# CHSH Game: Testing the Limits of Reality with Quantum Mechanics \n",
    "Would you like to re-create some of the experiments that led to the 2022 Nobel Prize in Physics? And how about proving Einstein wrong while we’re at it? If that sounds fun, keep reading - this notebook explores the CHSH game, a thought experiment and quantum circuit that demonstrates how quantum entanglement can lead to results that defy classical intuition."
   ]
  },
  {
   "cell_type": "markdown",
   "id": "521bc400",
   "metadata": {},
   "source": [
    "## Background\n",
    "### Einstein Bohr debates\n",
    "Quantum particles exhibit some very weird (to us humans) phenomenon. Chief among the freaky properties of quantum particles are superposition and entanglement. \n",
    "\n",
    "- Superposition is the property of quantum bits (qubits) that allows them to exist in a linear combination of multiple states simultaneously - until they are observed. \n",
    "- Entanglement is the phenomenon where the quantum state of each particle in a group cannot be described independently of the state of the others, even when the particles are separated by a large distance. \n",
    "\n",
    "These properties are the key reason why quantum computing works and is better at certain tasks than classical computing. However, quantum theory when first proposed did not find support from some key scientists - Albert Einstein the most prominent one among them. Einstein strongly believed that that quantum mechanics was an incomplete theory. What appeared to us as particles behaving probabilistically was in fact just proof that the theory was incomplete and that other hidden variables were at play which we were ignorant about."
   ]
  },
  {
   "cell_type": "markdown",
   "id": "291bda31",
   "metadata": {},
   "source": [
    "<img src=\"./Images/EPR.jpg\" alt=\"Einstein disagrees with Quantum theory, considers it incomplete\"/>"
   ]
  },
  {
   "cell_type": "markdown",
   "id": "9658ee6d",
   "metadata": {},
   "source": [
    "In 1935, Einstein, Podolsky, and Rosen (EPR) published a thought-provoking paper questioning the completeness of quantum mechanics. The EPR paradox highlighted the contradiction between quantum mechanics' probabilistic predictions and the principle of locality - the idea that objects are only influenced by their immediate surroundings. The authors of the EPR paper argued that entanglement would imply that any measurement on the first entangled particle would instantaneously affect the second, no matter how far apart they are. This would be impossible according to the theory of relativity, which forbids faster than light communication. Thus, EPR introduced the concept of \"hidden variables,\" hypothesizing that quantum mechanics might be an incomplete description of reality and that there were other factors that deterministically define the measurement outcomes. \n",
    "\n",
    "This was the basis of Einstein's famous remark, “God does not play dice”. In response, Niels Bohr is said to have replied, \"Stop telling God what to do with his dice.\" Bohr defended the Copenhagen interpretation, arguing that quantum mechanics provides a complete description of nature but requires abandoning classical notions of determinism and locality. This philosophical clash between Bohr and Einstein set the stage for one of the most profound debates in physics."
   ]
  },
  {
   "cell_type": "markdown",
   "id": "71bd2739",
   "metadata": {},
   "source": [
    "<img src=\"./Images/Einstein_Bohr.jpg\" alt=\"Einstein and Bohr, deep in discussion in December 1925\" width=\"900\"/>\n"
   ]
  },
  {
   "cell_type": "markdown",
   "id": "401fb17a",
   "metadata": {},
   "source": [
    "### Bell's Inequality: A Mathematical Revolution\n",
    "While the Einstein-Bohr debate raged, not many had ideas to experimentally prove either of them right. How do you experimentally prove a phenomenon that collapses when observed? Until John Bell came along. John Bell revolutionized the debate in 1964 by deriving his famous Bell's theorem. Bell's theorem mathematically formalized the distinction between predictions of quantum mechanics and those of any local hidden variable theory. For the first time, there was a way to test the completeness of quantum mechanics in a laboratory."
   ]
  },
  {
   "cell_type": "markdown",
   "id": "e57368ef",
   "metadata": {},
   "source": [
    "<img src=\"./Images/John_Bell.png\" alt=\"John Bell, with his famous inequality in on the blackboard\" width=\"900\"/>"
   ]
  },
  {
   "cell_type": "markdown",
   "id": "5eca254e",
   "metadata": {},
   "source": [
    "### Clauser's Experiments and the Nobel Prize\n",
    "In the 1970s, John Clauser, building on Bell’s work, designed experiments to test these predictions using a version known as the CHSH inequality (named after Clauser, Horne, Shimony, and Holt). These experiments, conducted with unprecedented precision, supported the prediction of quantum mechanics and ruled out local hidden variable theories. Clauser's contributions, along with those of Alain Aspect and Anton Zeilinger, earned him the 2022 Nobel Prize in Physics, cementing the CHSH inequality's place in the annals of science."
   ]
  },
  {
   "cell_type": "markdown",
   "id": "8aed199d",
   "metadata": {},
   "source": [
    "<img src=\"./Images/Clauser.jpg\" alt=\"John Clauser, who won the 2022 Physics Nobel prize\" width=\"900\"/>"
   ]
  },
  {
   "cell_type": "markdown",
   "id": "081514c9",
   "metadata": {},
   "source": [
    "### The Mathematical Framework of the CHSH Inequality\n",
    "The CHSH game builds on Bell's theorem, offering a concrete formulation for experimental tests. The CHSH game is a two-player cooperative game played by Alice and Bob against a referee. Each round works like this:\n",
    "\n",
    "- The referee sends two random bits: x to Alice and y to Bob (each ∈ {0, 1}).\n",
    "- Alice and Bob respond with their own bits a and b, without communicating with each other during the game.\n",
    "- They win the game if their answers satisfy:"
   ]
  },
  {
   "cell_type": "markdown",
   "id": "3981f3ff",
   "metadata": {},
   "source": [
    "<img src=\"./Images/Equation1.png\" alt=\"Equation1\"/>"
   ]
  },
  {
   "cell_type": "markdown",
   "id": "8d34a520",
   "metadata": {},
   "source": [
    "i.e. the XOR of their outputs equals the logical AND of their inputs. Thus, Alice and Bob can win this game if:\n",
    "- When 𝑥 = 0 or 𝑦 = 0, then 𝑥⋅𝑦 = 0, so they must ensure 𝑎 ⊕ 𝑏 = 0 by outputting the same bit \n",
    "- When 𝑥 = 𝑦 = 1, then 𝑥⋅𝑦 = 1, so they must ensure 𝑎 ⊕ 𝑏 = 1 by outputting opposite bits\n",
    "The below table shows what Alice and Bob need to return for each combination of x and y to win the game."
   ]
  },
  {
   "cell_type": "markdown",
   "id": "fc23ccd2",
   "metadata": {},
   "source": [
    "| x | y | x ⋅ y | Desired outputs from Alice and Bob |\n",
    "|---|---|-------|-------------------------------------|\n",
    "| 0 | 0 |   0   | Same output                         |\n",
    "| 0 | 1 |   0   | Same output                         |\n",
    "| 1 | 0 |   0   | Same output                         |\n",
    "| 1 | 1 |   1   | Different output                    |\n"
   ]
  },
  {
   "cell_type": "markdown",
   "id": "70095bb9",
   "metadata": {},
   "source": [
    "Under classical conditions - where Alice and Bob are limited to shared classical strategies without any communication during the game - the best they can do is agree ahead on deterministic rules that work for 3 out of the 4 possible input combinations. i.e. they agree to always output the same bit. This gives a maximum winning probability of 75%."
   ]
  },
  {
   "cell_type": "markdown",
   "id": "f7e11259",
   "metadata": {},
   "source": [
    "However, if they share entangled qubits and use quantum measurements, they can exploit quantum correlations that have no classical equivalent, enabling them to achieve a winning probability of approximately 85.4%. Suppose Alice and Bob share an entangled Bell state:"
   ]
  },
  {
   "cell_type": "markdown",
   "id": "06da54dc",
   "metadata": {},
   "source": [
    "<img src=\"./Images/Bell_State.png\" alt=\"Bell State\"/>"
   ]
  },
  {
   "cell_type": "markdown",
   "id": "2f368c2d",
   "metadata": {},
   "source": [
    "They agree beforehand to perform measurements on their qubits depending on the their inputs. \n",
    "When Alice receives her input bit x, she chooses her measurement angle as follows:\n",
    "- If x = 0, she measures in the 0° basis \n",
    "- If x = 1, she measures in the 45° basis (π/4)\n",
    "\n",
    "Bob, based on his input bit y, measures in a rotated basis as follows:\n",
    "- If y = 0, he uses an angle of 22.5° (π/8)\n",
    "- If y = 1, he uses −22.5° (−π/8)\n",
    "\n",
    "The quantum circuit encapsulating this quantum strategy is shown below:\n",
    "⁡\n"
   ]
  },
  {
   "cell_type": "markdown",
   "id": "4801b907",
   "metadata": {},
   "source": [
    "<img src=\"./Images/Circuit.png\" alt=\"Quantum circuit\"/>"
   ]
  },
  {
   "cell_type": "markdown",
   "id": "8cb9a2a7",
   "metadata": {},
   "source": [
    "These angles are carefully chosen to maximize their winning probabilities. \n",
    "\n",
    "In quantum mechanics, the probability that Alice and Bob's measurement outcomes are correlated depends on the angle difference Δ𝜃 between their measurement settings. Specifically:\n",
    "\n",
    "Probability that 𝑎 ⊕ 𝑏 = 𝑥 ⋅ 𝑦 = $\\cos^2(\\Delta\\theta)$\n",
    "\n",
    "Thus, the table below shows that using the quantum strategy raises the success probability to 85.4%, outperforming the 75% limit of any classical strategy."
   ]
  },
  {
   "cell_type": "markdown",
   "id": "bc976472",
   "metadata": {},
   "source": [
    "| x | y | $x \\cdot y$ | Winning Condition ($a \\oplus b$) | Alice's Angle | Bob's Angle | $\\Delta\\theta$ | Success Probability |\n",
    "|---|---|-------------|-----------------------------------|----------------|--------------|----------------|----------------------|\n",
    "| 0 | 0 | 0           | $a \\oplus b = 0$ (same)          | $0$            | $\\frac{\\pi}{8}$     | $\\frac{\\pi}{8}$       | $\\cos^2\\left(\\frac{\\pi}{8}\\right)$ $\\approx 85.4\\%$|\n",
    "| 0 | 1 | 0           | $a \\oplus b = 0$ (same)          | $0$            | $-\\frac{\\pi}{8}$    | $\\frac{\\pi}{8}$       | $\\cos^2\\left(\\frac{\\pi}{8}\\right)$ $\\approx 85.4\\%$|\n",
    "| 1 | 0 | 0           | $a \\oplus b = 0$ (same)          | $\\frac{\\pi}{4}$     | $\\frac{\\pi}{8}$     | $\\frac{\\pi}{8}$       | $\\cos^2\\left(\\frac{\\pi}{8}\\right)$ $\\approx 85.4\\%$|\n",
    "| 1 | 1 | 1           | $a \\oplus b = 1$ (different)     | $\\frac{\\pi}{4}$     | $-\\frac{\\pi}{8}$    | $\\frac{3\\pi}{8}$      | 1 - $\\sin^2\\left(\\frac{3\\pi}{8}\\right)$ $\\approx 85.4\\%$|\n"
   ]
  },
  {
   "cell_type": "markdown",
   "id": "0f7818be",
   "metadata": {},
   "source": [
    "Experimental observation can show us whether we achieve a probability of 75% or a higher 85% - if we can empirically show that our probability for such an experiment is higher than 75%, that disproves the \"hidden local variable\" hypothesis and proves that quantum mechanics is as weird and fun as we believe it to be.\n",
    "\n",
    "## Implementing the CHSH game in Qiskit\n",
    "Clauser et al did not have access to quantum computers and had to do these experiments the difficult way - by actually entangling photons and polarization measurements. However, today we have access to quantum computers thanks to IBM and can easily conduct these experiments using Qiskit. Here is an implementation of the CHSH inequality in Qiskit.\n",
    "\n",
    "First, let us import IBM Qiskit. Qiskit is an open-source, Python-based high performance software stack for quantum computing. The Qiskit SDK allows us to run quantum programs on IBM's quantum hardware or classical simulators.\n",
    "\n",
    "Run the below cell to ensure you have Qiskit installed. You should see a version of greater than 2.0.0 when you run this cell."
   ]
  },
  {
   "cell_type": "code",
   "execution_count": 1,
   "id": "bf05e499-5e9d-490c-85e5-6b2229d508c3",
   "metadata": {},
   "outputs": [
    {
     "data": {
      "text/plain": [
       "'2.0.1'"
      ]
     },
     "execution_count": 1,
     "metadata": {},
     "output_type": "execute_result"
    }
   ],
   "source": [
    "# Checking if Qiskit is correctly installed\n",
    "import qiskit\n",
    "qiskit.__version__"
   ]
  },
  {
   "cell_type": "markdown",
   "id": "497e6d9e",
   "metadata": {},
   "source": [
    "Great job! Now let us import the rest of the libraries we need for this experiment."
   ]
  },
  {
   "cell_type": "code",
   "execution_count": 2,
   "id": "3051f6d1-c0db-421b-8cfd-15fc93ee4c98",
   "metadata": {},
   "outputs": [],
   "source": [
    "# Importing the libraries we need for this experiment\n",
    "from qiskit import QuantumCircuit, transpile\n",
    "from qiskit_aer import AerSimulator\n",
    "from numpy import pi\n",
    "from numpy.random import randint"
   ]
  },
  {
   "cell_type": "markdown",
   "id": "f25313db",
   "metadata": {},
   "source": [
    "We will now run the experiment on the AerSimulator provided by Qiskit. For small enough number of qubits, simulators use our computer's CPU to simulate the quantum nature of qubits. This is what we will do first."
   ]
  },
  {
   "cell_type": "code",
   "execution_count": 3,
   "id": "5e29bdd0-984b-47ea-bd98-1f3321970bf3",
   "metadata": {},
   "outputs": [],
   "source": [
    "# For running the job on a quantum simulator\n",
    "backend = AerSimulator()"
   ]
  },
  {
   "cell_type": "markdown",
   "id": "41714efa-59db-45fd-a55d-72ed347c4581",
   "metadata": {},
   "source": [
    "### Define the game\n",
    "Lets now define the game that we are playing, essentially simulating our thought experiment. \n",
    "\n",
    "In other words, for Alice and Bob to win the game:\n",
    "- If both x and y are 1, then a and b must be different\n",
    "- Otherwise, a and b must be the same\n",
    "\n",
    "This function simulates one round of the game: The referee gives two random bits x and y (chosen using randint). The strategy function returns Alice and Bob's responses a and b depending on whether we are playing the classical version or quantum version. The referee checks if they win using the CHSH win condition: a ^ b == x & y."
   ]
  },
  {
   "cell_type": "code",
   "execution_count": 4,
   "id": "83569059-a760-4c55-8a8b-9f946805abf3",
   "metadata": {},
   "outputs": [],
   "source": [
    "def chsh_game(strategy):\n",
    " \n",
    "    # Referee chooses x and y randomly\n",
    "    x, y = randint(0, 2), randint(0, 2)\n",
    "\n",
    "    # Use strategy to choose a and b\n",
    "    a, b = strategy(x, y)\n",
    "\n",
    "    # Referee decides if Alice and Bob win or lose\n",
    "    if (a ^ b) == (x & y):\n",
    "        return 1  # Win\n",
    "    else:\n",
    "        return 0  # Lose"
   ]
  },
  {
   "cell_type": "markdown",
   "id": "e7d049f7-3458-45c0-9226-bac65f0fb356",
   "metadata": {},
   "source": [
    "### Define the classical strategy\n",
    "Classically, the best option for Alice and Bob is to return the same bit always irrespective of the values of x or y. Remember, Alice and Bob cannot communicate with each other. Since they cannot know what the other received from the referee, they decide on the best strategy before starting the game. Their best strategy is to always respond with the same bit. Since responding with the same bit gives them a win in 3 out of 4 situations:\n",
    "- When x = 0, y = 0, Alice and Bob need to return the same a and b ==> Win for the classical strategy\n",
    "- When x = 0, y = 1, Alice and Bob need to return the same a and b ==> Win for the classical strategy\n",
    "- When x = 1, y = 0, Alice and Bob need to return the same a and b ==> Win for the classical strategy\n",
    "- When x = 1, y = 1, Alice and Bob need to return different a and b ==> Loss for the classical strategy\n",
    "\n",
    "Thus, with the classical strategy, Alice and Bob can win at most 75% of the time assuming x and y are chosen randomly and they play sufficient number of games."
   ]
  },
  {
   "cell_type": "code",
   "execution_count": 5,
   "id": "3a5641e5-fbf5-4277-a2fa-a59eb8a31b9a",
   "metadata": {},
   "outputs": [],
   "source": [
    "def classical_strategy(x, y):\n",
    "    return 0, 0 #Always returns the same a and b irrespective of x and y"
   ]
  },
  {
   "cell_type": "markdown",
   "id": "354bc982-30f1-4e42-87a3-2737925d66ba",
   "metadata": {},
   "source": [
    "### Define the quantum strategy\n",
    "However, using quantum entanglement, Alice and Bob can achieve a higher win rate. They do this by sharing a pair of entangled qubits before the game begins. This entanglement allows their measurement results to be correlated in ways that classical physics can’t explain.\n",
    "\n",
    "Alice and Bob start with a Bell state - an entangled pair created using a Hadamard gate (H) and a CNOT gate:"
   ]
  },
  {
   "cell_type": "markdown",
   "id": "7bcc2516",
   "metadata": {},
   "source": [
    "<img src=\"./Images/Bell_State.png\" alt=\"Bell State\"/>"
   ]
  },
  {
   "cell_type": "markdown",
   "id": "5f136963",
   "metadata": {},
   "source": [
    "When Alice receives her input bit x, she chooses her measurement angle:\n",
    "- If x = 0, she measures in the 0° basis (ry(0))\n",
    "- If x = 1, she measures in the 90° basis (ry(π/2))\n",
    "\n",
    "Bob, based on his input bit y, measures in a rotated basis:\n",
    "- If y = 0, he uses an angle of 45° (ry(π/4))\n",
    "- If y = 1, he uses −45° (ry(−π/4))\n",
    "\n",
    "Their outputs a and b are determined from the quantum measurements. Lets write the quantum_strategy function that does this and returns Alice's and Bob's responses based on the quantum measurements of the entangled Bell pair. "
   ]
  },
  {
   "cell_type": "code",
   "execution_count": 6,
   "id": "e2b5d056-1152-4a3a-9a18-9ce3ec8abbcc",
   "metadata": {},
   "outputs": [],
   "source": [
    "def quantum_strategy(x, y):\n",
    "    \n",
    "    qc = QuantumCircuit(2,  2)\n",
    "    qc.h(0)\n",
    "    qc.cx(0, 1)\n",
    "    \n",
    "    # Alice\n",
    "    if x == 0:\n",
    "        qc.ry(0, 0)\n",
    "    else:\n",
    "        qc.ry(pi / 2, 0)\n",
    "    qc.measure(0, 0)\n",
    "\n",
    "    # Bob\n",
    "    if y == 0:\n",
    "        qc.ry(pi / 4, 1)\n",
    "    else:\n",
    "        qc.ry(-pi / 4, 1)\n",
    "    qc.measure(1, 1)\n",
    "    cc = transpile(qc, backend)\n",
    "    job = backend.run(cc, shots=1)\n",
    "    result = list(job.result().get_counts(cc))\n",
    "\n",
    "    # Return a and b based on result:\n",
    "    if result[0] == \"00\":\n",
    "        return 0, 0\n",
    "    elif result[0] == \"01\":\n",
    "        return 0, 1\n",
    "    elif result[0] == \"10\":\n",
    "        return 1, 0\n",
    "    else:\n",
    "        return 1, 1"
   ]
  },
  {
   "cell_type": "markdown",
   "id": "3decf277",
   "metadata": {},
   "source": [
    "### The result\n",
    "Now let us run this game 1000 times (shown by the variable NUM_GAMES below - you can change this number to see how playing more rounds or less rounds may impact our results)"
   ]
  },
  {
   "cell_type": "code",
   "execution_count": 7,
   "id": "bb7ea591-bf4a-4689-a43e-e0d9ae7b9a16",
   "metadata": {},
   "outputs": [
    {
     "name": "stdout",
     "output_type": "stream",
     "text": [
      "Classical Strategy - Fraction of games won: 0.747\n",
      "Quantum Strategy   - Fraction of games won: 0.862\n"
     ]
    }
   ],
   "source": [
    "NUM_GAMES = 1000\n",
    "TOTAL_SCORE_CLASSICAL = 0\n",
    "TOTAL_SCORE_QUANTUM = 0\n",
    "\n",
    "for i in range(NUM_GAMES):\n",
    "    TOTAL_SCORE_CLASSICAL += chsh_game(classical_strategy)\n",
    "    TOTAL_SCORE_QUANTUM += chsh_game(quantum_strategy)\n",
    "\n",
    "print(\"Classical Strategy - Fraction of games won:\", TOTAL_SCORE_CLASSICAL / NUM_GAMES)\n",
    "print(\"Quantum Strategy   - Fraction of games won:\", TOTAL_SCORE_QUANTUM / NUM_GAMES)"
   ]
  },
  {
   "cell_type": "markdown",
   "id": "85c0d6be",
   "metadata": {},
   "source": [
    "As we had hypothesized - the classical strategy should show that Alice and Bob win the game about 75% of the time. If your classical win rate is slightly higher or lower - this is due to randomness.For example, even though a fair coin has a 50% chance of landing heads, tossing it just 10 times may yield 7 heads or only 3. This is why we simulate the game over 1,000 trials — the more repetitions, the closer the empirical win rate approaches the theoretical value.\n",
    "\n",
    "Now, when we run the quantum strategy, something remarkable happens: the win rate jumps to approximately 85%. This isn't a fluke — it reflects a deep feature of quantum mechanics. Alice and Bob share a pair of entangled qubits, and by carefully choosing their measurement angles based on their respective input bits, they exploit quantum correlations that have no classical explanation. Their measurement outcomes are not just random — they’re quantum-coordinated in a way that increases their chances of meeting the CHSH win condition. This optimal quantum strategy reaches the so-called Tsirelson bound, which sets the maximum possible win rate in the CHSH game allowed by quantum physics:"
   ]
  },
  {
   "cell_type": "markdown",
   "id": "c9ba25be",
   "metadata": {},
   "source": [
    "<img src=\"./Images/Quantum_Win_Rate.png\" alt=\"Max win rate\"/>"
   ]
  },
  {
   "cell_type": "markdown",
   "id": "5929049a",
   "metadata": {},
   "source": [
    "This bound is not just higher than the classical limit — it's fundamentally unreachable by any classical means. No hidden-variable theory or pre-agreed strategy can surpass the 75% threshold. Only entanglement enables such performance. \n",
    "\n",
    "Until now, we’ve used the Aer simulator to model a quantum computer, with all computations running locally on our own CPU. But thanks to modern cloud-based platforms, we can now go a step further. From the comfort of our homes, we have access to real quantum hardware provided by IBM. Let’s now run the same CHSH experiment on an actual IBM quantum computer and see how it performs in the real world.\n",
    "\n",
    "Use the instructions provided in the \"Installation.ipynb\" file to get your own API token and plug it in the below cell where it says 'YOUR_API_TOKEN' (plug in your API token within the single quotes)."
   ]
  },
  {
   "cell_type": "code",
   "execution_count": 8,
   "id": "297c68b5",
   "metadata": {},
   "outputs": [
    {
     "name": "stderr",
     "output_type": "stream",
     "text": [
      "/var/folders/59/c28nxdq10_j1dfnxdccj1tj40000gn/T/ipykernel_673/3558833770.py:4: DeprecationWarning: The \"ibm_quantum\" channel option is deprecated and will be sunset on 1 July. After this date, \"ibm_cloud\" and \"local\" will be the only valid channels. For information on migrating to the new IBM Quantum Platform on the \"ibm_cloud\" channel, review the migration guide https://quantum.cloud.ibm.com/docs/migration-guides/classic-iqp-to-cloud-iqp .\n",
      "  service = QiskitRuntimeService(\n"
     ]
    },
    {
     "ename": "IBMNotAuthorizedError",
     "evalue": "'401 Client Error: Unauthorized for url: https://auth.quantum.ibm.com/api/users/loginWithToken. Login failed., Error code: 3446.'",
     "output_type": "error",
     "traceback": [
      "\u001b[31m---------------------------------------------------------------------------\u001b[39m",
      "\u001b[31mHTTPError\u001b[39m                                 Traceback (most recent call last)",
      "\u001b[36mFile \u001b[39m\u001b[32m~/miniconda3/envs/chsh_env/lib/python3.13/site-packages/qiskit_ibm_runtime/api/session.py:328\u001b[39m, in \u001b[36mRetrySession.request\u001b[39m\u001b[34m(self, method, url, bare, **kwargs)\u001b[39m\n\u001b[32m    327\u001b[39m     response = \u001b[38;5;28msuper\u001b[39m().request(method, final_url, headers=headers, **kwargs)\n\u001b[32m--> \u001b[39m\u001b[32m328\u001b[39m     \u001b[43mresponse\u001b[49m\u001b[43m.\u001b[49m\u001b[43mraise_for_status\u001b[49m\u001b[43m(\u001b[49m\u001b[43m)\u001b[49m\n\u001b[32m    329\u001b[39m \u001b[38;5;28;01mexcept\u001b[39;00m RequestException \u001b[38;5;28;01mas\u001b[39;00m ex:\n\u001b[32m    330\u001b[39m     \u001b[38;5;66;03m# Wrap the requests exceptions into a IBM Q custom one, for\u001b[39;00m\n\u001b[32m    331\u001b[39m     \u001b[38;5;66;03m# compatibility.\u001b[39;00m\n",
      "\u001b[36mFile \u001b[39m\u001b[32m~/miniconda3/envs/chsh_env/lib/python3.13/site-packages/requests/models.py:1024\u001b[39m, in \u001b[36mResponse.raise_for_status\u001b[39m\u001b[34m(self)\u001b[39m\n\u001b[32m   1023\u001b[39m \u001b[38;5;28;01mif\u001b[39;00m http_error_msg:\n\u001b[32m-> \u001b[39m\u001b[32m1024\u001b[39m     \u001b[38;5;28;01mraise\u001b[39;00m HTTPError(http_error_msg, response=\u001b[38;5;28mself\u001b[39m)\n",
      "\u001b[31mHTTPError\u001b[39m: 401 Client Error: Unauthorized for url: https://auth.quantum.ibm.com/api/users/loginWithToken",
      "\nThe above exception was the direct cause of the following exception:\n",
      "\u001b[31mIBMNotAuthorizedError\u001b[39m                     Traceback (most recent call last)",
      "\u001b[36mCell\u001b[39m\u001b[36m \u001b[39m\u001b[32mIn[8]\u001b[39m\u001b[32m, line 4\u001b[39m\n\u001b[32m      1\u001b[39m \u001b[38;5;66;03m# For running the job on the IBM's Quantum Computer\u001b[39;00m\n\u001b[32m      2\u001b[39m \u001b[38;5;28;01mfrom\u001b[39;00m\u001b[38;5;250m \u001b[39m\u001b[34;01mqiskit_ibm_runtime\u001b[39;00m\u001b[38;5;250m \u001b[39m\u001b[38;5;28;01mimport\u001b[39;00m QiskitRuntimeService\n\u001b[32m----> \u001b[39m\u001b[32m4\u001b[39m service = \u001b[43mQiskitRuntimeService\u001b[49m\u001b[43m(\u001b[49m\n\u001b[32m      5\u001b[39m \u001b[43m    \u001b[49m\u001b[43mchannel\u001b[49m\u001b[43m=\u001b[49m\u001b[33;43m'\u001b[39;49m\u001b[33;43mibm_quantum\u001b[39;49m\u001b[33;43m'\u001b[39;49m\u001b[43m,\u001b[49m\n\u001b[32m      6\u001b[39m \u001b[43m    \u001b[49m\u001b[43mtoken\u001b[49m\u001b[43m=\u001b[49m\u001b[33;43m'\u001b[39;49m\u001b[33;43mYOUR_API_TOKEN\u001b[39;49m\u001b[33;43m'\u001b[39;49m\u001b[43m  \u001b[49m\n\u001b[32m      7\u001b[39m \u001b[43m)\u001b[49m\n\u001b[32m      8\u001b[39m backend = service.least_busy(simulator=\u001b[38;5;28;01mFalse\u001b[39;00m, operational=\u001b[38;5;28;01mTrue\u001b[39;00m)\n",
      "\u001b[36mFile \u001b[39m\u001b[32m~/miniconda3/envs/chsh_env/lib/python3.13/site-packages/qiskit_ibm_runtime/qiskit_runtime_service.py:171\u001b[39m, in \u001b[36mQiskitRuntimeService.__init__\u001b[39m\u001b[34m(self, channel, token, url, filename, name, instance, proxies, verify, private_endpoint, url_resolver)\u001b[39m\n\u001b[32m    161\u001b[39m \u001b[38;5;28;01melse\u001b[39;00m:\n\u001b[32m    162\u001b[39m     warnings.warn(\n\u001b[32m    163\u001b[39m         \u001b[33m'\u001b[39m\u001b[33mThe \u001b[39m\u001b[33m\"\u001b[39m\u001b[33mibm_quantum\u001b[39m\u001b[33m\"\u001b[39m\u001b[33m channel option is deprecated and will be sunset on 1 July. \u001b[39m\u001b[33m'\u001b[39m\n\u001b[32m    164\u001b[39m         \u001b[33m'\u001b[39m\u001b[33mAfter this date, \u001b[39m\u001b[33m\"\u001b[39m\u001b[33mibm_cloud\u001b[39m\u001b[33m\"\u001b[39m\u001b[33m and \u001b[39m\u001b[33m\"\u001b[39m\u001b[33mlocal\u001b[39m\u001b[33m\"\u001b[39m\u001b[33m will be the only valid channels. \u001b[39m\u001b[33m'\u001b[39m\n\u001b[32m   (...)\u001b[39m\u001b[32m    169\u001b[39m         stacklevel=\u001b[32m2\u001b[39m,\n\u001b[32m    170\u001b[39m     )\n\u001b[32m--> \u001b[39m\u001b[32m171\u001b[39m     auth_client = \u001b[38;5;28;43mself\u001b[39;49m\u001b[43m.\u001b[49m\u001b[43m_authenticate_ibm_quantum_account\u001b[49m\u001b[43m(\u001b[49m\u001b[38;5;28;43mself\u001b[39;49m\u001b[43m.\u001b[49m\u001b[43m_client_params\u001b[49m\u001b[43m)\u001b[49m\n\u001b[32m    172\u001b[39m     \u001b[38;5;66;03m# Update client parameters to use authenticated values.\u001b[39;00m\n\u001b[32m    173\u001b[39m     \u001b[38;5;28mself\u001b[39m._client_params.url = auth_client.current_service_urls()[\u001b[33m\"\u001b[39m\u001b[33mservices\u001b[39m\u001b[33m\"\u001b[39m][\u001b[33m\"\u001b[39m\u001b[33mruntime\u001b[39m\u001b[33m\"\u001b[39m]\n",
      "\u001b[36mFile \u001b[39m\u001b[32m~/miniconda3/envs/chsh_env/lib/python3.13/site-packages/qiskit_ibm_runtime/qiskit_runtime_service.py:293\u001b[39m, in \u001b[36mQiskitRuntimeService._authenticate_ibm_quantum_account\u001b[39m\u001b[34m(self, client_params)\u001b[39m\n\u001b[32m    286\u001b[39m \u001b[38;5;28;01mif\u001b[39;00m \u001b[38;5;129;01mnot\u001b[39;00m version_info[\u001b[33m\"\u001b[39m\u001b[33mnew_api\u001b[39m\u001b[33m\"\u001b[39m] \u001b[38;5;129;01mor\u001b[39;00m \u001b[33m\"\u001b[39m\u001b[33mapi-auth\u001b[39m\u001b[33m\"\u001b[39m \u001b[38;5;129;01mnot\u001b[39;00m \u001b[38;5;129;01min\u001b[39;00m version_info:\n\u001b[32m    287\u001b[39m     \u001b[38;5;28;01mraise\u001b[39;00m IBMInputValueError(\n\u001b[32m    288\u001b[39m         \u001b[33m\"\u001b[39m\u001b[33mThe URL specified (\u001b[39m\u001b[38;5;132;01m{}\u001b[39;00m\u001b[33m) is not an IBM Quantum authentication URL. \u001b[39m\u001b[33m\"\u001b[39m\n\u001b[32m    289\u001b[39m         \u001b[33m\"\u001b[39m\u001b[33mValid authentication URL: \u001b[39m\u001b[38;5;132;01m{}\u001b[39;00m\u001b[33m.\u001b[39m\u001b[33m\"\u001b[39m.format(\n\u001b[32m    290\u001b[39m             client_params.url, QISKIT_IBM_RUNTIME_API_URL\n\u001b[32m    291\u001b[39m         )\n\u001b[32m    292\u001b[39m     )\n\u001b[32m--> \u001b[39m\u001b[32m293\u001b[39m auth_client = \u001b[43mAuthClient\u001b[49m\u001b[43m(\u001b[49m\u001b[43mclient_params\u001b[49m\u001b[43m)\u001b[49m\n\u001b[32m    294\u001b[39m service_urls = auth_client.current_service_urls()\n\u001b[32m    295\u001b[39m \u001b[38;5;28;01mif\u001b[39;00m \u001b[38;5;129;01mnot\u001b[39;00m service_urls.get(\u001b[33m\"\u001b[39m\u001b[33mservices\u001b[39m\u001b[33m\"\u001b[39m, {}).get(SERVICE_NAME):\n",
      "\u001b[36mFile \u001b[39m\u001b[32m~/miniconda3/envs/chsh_env/lib/python3.13/site-packages/qiskit_ibm_runtime/api/clients/auth.py:39\u001b[39m, in \u001b[36mAuthClient.__init__\u001b[39m\u001b[34m(self, client_params)\u001b[39m\n\u001b[32m     36\u001b[39m \u001b[38;5;28mself\u001b[39m._service_urls = {}  \u001b[38;5;66;03m# type: ignore[var-annotated]\u001b[39;00m\n\u001b[32m     38\u001b[39m \u001b[38;5;28mself\u001b[39m.auth_api = Api(RetrySession(\u001b[38;5;28mself\u001b[39m.auth_url, **client_params.connection_parameters()))\n\u001b[32m---> \u001b[39m\u001b[32m39\u001b[39m \u001b[38;5;28mself\u001b[39m.base_api = \u001b[38;5;28;43mself\u001b[39;49m\u001b[43m.\u001b[49m\u001b[43m_init_service_clients\u001b[49m\u001b[43m(\u001b[49m\u001b[43m*\u001b[49m\u001b[43m*\u001b[49m\u001b[43mclient_params\u001b[49m\u001b[43m.\u001b[49m\u001b[43mconnection_parameters\u001b[49m\u001b[43m(\u001b[49m\u001b[43m)\u001b[49m\u001b[43m)\u001b[49m\n",
      "\u001b[36mFile \u001b[39m\u001b[32m~/miniconda3/envs/chsh_env/lib/python3.13/site-packages/qiskit_ibm_runtime/api/clients/auth.py:51\u001b[39m, in \u001b[36mAuthClient._init_service_clients\u001b[39m\u001b[34m(self, **request_kwargs)\u001b[39m\n\u001b[32m     42\u001b[39m \u001b[38;5;250m\u001b[39m\u001b[33;03m\"\"\"Initialize the clients used for communicating with the API.\u001b[39;00m\n\u001b[32m     43\u001b[39m \n\u001b[32m     44\u001b[39m \u001b[33;03mArgs:\u001b[39;00m\n\u001b[32m   (...)\u001b[39m\u001b[32m     48\u001b[39m \u001b[33;03m    Client for the API server.\u001b[39;00m\n\u001b[32m     49\u001b[39m \u001b[33;03m\"\"\"\u001b[39;00m\n\u001b[32m     50\u001b[39m \u001b[38;5;66;03m# Request an access token.\u001b[39;00m\n\u001b[32m---> \u001b[39m\u001b[32m51\u001b[39m \u001b[38;5;28mself\u001b[39m.access_token = \u001b[38;5;28;43mself\u001b[39;49m\u001b[43m.\u001b[49m\u001b[43m_request_access_token\u001b[49m\u001b[43m(\u001b[49m\u001b[43m)\u001b[49m\n\u001b[32m     52\u001b[39m \u001b[38;5;28mself\u001b[39m.auth_api.session.auth = QuantumAuth(access_token=\u001b[38;5;28mself\u001b[39m.access_token)\n\u001b[32m     53\u001b[39m \u001b[38;5;28mself\u001b[39m._service_urls = \u001b[38;5;28mself\u001b[39m.user_urls()\n",
      "\u001b[36mFile \u001b[39m\u001b[32m~/miniconda3/envs/chsh_env/lib/python3.13/site-packages/qiskit_ibm_runtime/api/clients/auth.py:77\u001b[39m, in \u001b[36mAuthClient._request_access_token\u001b[39m\u001b[34m(self)\u001b[39m\n\u001b[32m     67\u001b[39m \u001b[38;5;250m\u001b[39m\u001b[33;03m\"\"\"Request a new access token from the API authentication service.\u001b[39;00m\n\u001b[32m     68\u001b[39m \n\u001b[32m     69\u001b[39m \u001b[33;03mReturns:\u001b[39;00m\n\u001b[32m   (...)\u001b[39m\u001b[32m     74\u001b[39m \u001b[33;03m    RequestsApiError: If the request failed.\u001b[39;00m\n\u001b[32m     75\u001b[39m \u001b[33;03m\"\"\"\u001b[39;00m\n\u001b[32m     76\u001b[39m \u001b[38;5;28;01mtry\u001b[39;00m:\n\u001b[32m---> \u001b[39m\u001b[32m77\u001b[39m     response = \u001b[38;5;28;43mself\u001b[39;49m\u001b[43m.\u001b[49m\u001b[43mauth_api\u001b[49m\u001b[43m.\u001b[49m\u001b[43mlogin\u001b[49m\u001b[43m(\u001b[49m\u001b[38;5;28;43mself\u001b[39;49m\u001b[43m.\u001b[49m\u001b[43mapi_token\u001b[49m\u001b[43m)\u001b[49m\n\u001b[32m     78\u001b[39m     \u001b[38;5;28;01mreturn\u001b[39;00m response[\u001b[33m\"\u001b[39m\u001b[33mid\u001b[39m\u001b[33m\"\u001b[39m]\n\u001b[32m     79\u001b[39m \u001b[38;5;28;01mexcept\u001b[39;00m RequestsApiError \u001b[38;5;28;01mas\u001b[39;00m ex:\n\u001b[32m     80\u001b[39m     \u001b[38;5;66;03m# Get the original exception that raised.\u001b[39;00m\n",
      "\u001b[36mFile \u001b[39m\u001b[32m~/miniconda3/envs/chsh_env/lib/python3.13/site-packages/qiskit_ibm_runtime/api/rest/root.py:93\u001b[39m, in \u001b[36mApi.login\u001b[39m\u001b[34m(self, api_token)\u001b[39m\n\u001b[32m     84\u001b[39m \u001b[38;5;250m\u001b[39m\u001b[33;03m\"\"\"Login with token.\u001b[39;00m\n\u001b[32m     85\u001b[39m \n\u001b[32m     86\u001b[39m \u001b[33;03mArgs:\u001b[39;00m\n\u001b[32m   (...)\u001b[39m\u001b[32m     90\u001b[39m \u001b[33;03m    JSON response.\u001b[39;00m\n\u001b[32m     91\u001b[39m \u001b[33;03m\"\"\"\u001b[39;00m\n\u001b[32m     92\u001b[39m url = \u001b[38;5;28mself\u001b[39m.get_url(\u001b[33m\"\u001b[39m\u001b[33mlogin\u001b[39m\u001b[33m\"\u001b[39m)\n\u001b[32m---> \u001b[39m\u001b[32m93\u001b[39m \u001b[38;5;28;01mreturn\u001b[39;00m \u001b[38;5;28;43mself\u001b[39;49m\u001b[43m.\u001b[49m\u001b[43msession\u001b[49m\u001b[43m.\u001b[49m\u001b[43mpost\u001b[49m\u001b[43m(\u001b[49m\n\u001b[32m     94\u001b[39m \u001b[43m    \u001b[49m\u001b[43murl\u001b[49m\u001b[43m,\u001b[49m\u001b[43m \u001b[49m\u001b[43mjson\u001b[49m\u001b[43m=\u001b[49m\u001b[43m{\u001b[49m\u001b[33;43m\"\u001b[39;49m\u001b[33;43mapiToken\u001b[39;49m\u001b[33;43m\"\u001b[39;49m\u001b[43m:\u001b[49m\u001b[43m \u001b[49m\u001b[43mapi_token\u001b[49m\u001b[43m}\u001b[49m\u001b[43m,\u001b[49m\u001b[43m \u001b[49m\u001b[43mheaders\u001b[49m\u001b[43m=\u001b[49m\u001b[38;5;28;43mself\u001b[39;49m\u001b[43m.\u001b[49m\u001b[43m_HEADER_JSON_CONTENT\u001b[49m\n\u001b[32m     95\u001b[39m \u001b[43m\u001b[49m\u001b[43m)\u001b[49m.json()\n",
      "\u001b[36mFile \u001b[39m\u001b[32m~/miniconda3/envs/chsh_env/lib/python3.13/site-packages/requests/sessions.py:637\u001b[39m, in \u001b[36mSession.post\u001b[39m\u001b[34m(self, url, data, json, **kwargs)\u001b[39m\n\u001b[32m    626\u001b[39m \u001b[38;5;28;01mdef\u001b[39;00m\u001b[38;5;250m \u001b[39m\u001b[34mpost\u001b[39m(\u001b[38;5;28mself\u001b[39m, url, data=\u001b[38;5;28;01mNone\u001b[39;00m, json=\u001b[38;5;28;01mNone\u001b[39;00m, **kwargs):\n\u001b[32m    627\u001b[39m \u001b[38;5;250m    \u001b[39m\u001b[33mr\u001b[39m\u001b[33;03m\"\"\"Sends a POST request. Returns :class:`Response` object.\u001b[39;00m\n\u001b[32m    628\u001b[39m \n\u001b[32m    629\u001b[39m \u001b[33;03m    :param url: URL for the new :class:`Request` object.\u001b[39;00m\n\u001b[32m   (...)\u001b[39m\u001b[32m    634\u001b[39m \u001b[33;03m    :rtype: requests.Response\u001b[39;00m\n\u001b[32m    635\u001b[39m \u001b[33;03m    \"\"\"\u001b[39;00m\n\u001b[32m--> \u001b[39m\u001b[32m637\u001b[39m     \u001b[38;5;28;01mreturn\u001b[39;00m \u001b[38;5;28;43mself\u001b[39;49m\u001b[43m.\u001b[49m\u001b[43mrequest\u001b[49m\u001b[43m(\u001b[49m\u001b[33;43m\"\u001b[39;49m\u001b[33;43mPOST\u001b[39;49m\u001b[33;43m\"\u001b[39;49m\u001b[43m,\u001b[49m\u001b[43m \u001b[49m\u001b[43murl\u001b[49m\u001b[43m,\u001b[49m\u001b[43m \u001b[49m\u001b[43mdata\u001b[49m\u001b[43m=\u001b[49m\u001b[43mdata\u001b[49m\u001b[43m,\u001b[49m\u001b[43m \u001b[49m\u001b[43mjson\u001b[49m\u001b[43m=\u001b[49m\u001b[43mjson\u001b[49m\u001b[43m,\u001b[49m\u001b[43m \u001b[49m\u001b[43m*\u001b[49m\u001b[43m*\u001b[49m\u001b[43mkwargs\u001b[49m\u001b[43m)\u001b[49m\n",
      "\u001b[36mFile \u001b[39m\u001b[32m~/miniconda3/envs/chsh_env/lib/python3.13/site-packages/qiskit_ibm_runtime/api/session.py:349\u001b[39m, in \u001b[36mRetrySession.request\u001b[39m\u001b[34m(self, method, url, bare, **kwargs)\u001b[39m\n\u001b[32m    347\u001b[39m         message += \u001b[33mf\u001b[39m\u001b[33m\"\u001b[39m\u001b[33m. \u001b[39m\u001b[38;5;132;01m{\u001b[39;00mex.response.text\u001b[38;5;132;01m}\u001b[39;00m\u001b[33m\"\u001b[39m\n\u001b[32m    348\u001b[39m \u001b[38;5;28;01mif\u001b[39;00m status_code == \u001b[32m401\u001b[39m:\n\u001b[32m--> \u001b[39m\u001b[32m349\u001b[39m     \u001b[38;5;28;01mraise\u001b[39;00m IBMNotAuthorizedError(message) \u001b[38;5;28;01mfrom\u001b[39;00m\u001b[38;5;250m \u001b[39m\u001b[34;01mex\u001b[39;00m\n\u001b[32m    350\u001b[39m \u001b[38;5;28;01mif\u001b[39;00m status_code == \u001b[32m503\u001b[39m:  \u001b[38;5;66;03m# Planned maintenance outage\u001b[39;00m\n\u001b[32m    351\u001b[39m     \u001b[38;5;28;01mraise\u001b[39;00m RequestsApiError(\n\u001b[32m    352\u001b[39m         \u001b[33m\"\u001b[39m\u001b[33mUnexpected response received from server. Please check if the service \u001b[39m\u001b[33m\"\u001b[39m\n\u001b[32m    353\u001b[39m         \u001b[33m\"\u001b[39m\u001b[33mis in maintenance mode \u001b[39m\u001b[33m\"\u001b[39m\n\u001b[32m    354\u001b[39m         \u001b[33mf\u001b[39m\u001b[33m\"\u001b[39m\u001b[33mhttps://docs.quantum.ibm.com/announcements/service-alerts \u001b[39m\u001b[38;5;132;01m{\u001b[39;00mmessage\u001b[38;5;132;01m}\u001b[39;00m\u001b[33m\"\u001b[39m\n\u001b[32m    355\u001b[39m     )\n",
      "\u001b[31mIBMNotAuthorizedError\u001b[39m: '401 Client Error: Unauthorized for url: https://auth.quantum.ibm.com/api/users/loginWithToken. Login failed., Error code: 3446.'"
     ]
    }
   ],
   "source": [
    "# For running the job on the IBM's Quantum Computer\n",
    "from qiskit_ibm_runtime import QiskitRuntimeService\n",
    "\n",
    "service = QiskitRuntimeService(\n",
    "    channel='ibm_quantum',\n",
    "    token='YOUR_API_TOKEN'  \n",
    ")\n",
    "backend = service.least_busy(simulator=False, operational=True)"
   ]
  },
  {
   "cell_type": "markdown",
   "id": "c2b31067",
   "metadata": {},
   "source": [
    "Now we run the quantum_strategy function again to ensure we are using the measurements from real quantum hardware instead of our local simulator."
   ]
  },
  {
   "cell_type": "code",
   "execution_count": null,
   "id": "af986e91",
   "metadata": {},
   "outputs": [],
   "source": [
    "def quantum_strategy(x, y):\n",
    "    \n",
    "    qc = QuantumCircuit(2,  2)\n",
    "    qc.h(0)\n",
    "    qc.cx(0, 1)\n",
    "    \n",
    "    # Alice\n",
    "    if x == 0:\n",
    "        qc.ry(0, 0)\n",
    "    else:\n",
    "        qc.ry(pi / 2, 0)\n",
    "    qc.measure(0, 0)\n",
    "\n",
    "    # Bob\n",
    "    if y == 0:\n",
    "        qc.ry(pi / 4, 1)\n",
    "    else:\n",
    "        qc.ry(-pi / 4, 1)\n",
    "    qc.measure(1, 1)\n",
    "    cc = transpile(qc, backend)\n",
    "    job = backend.run(cc, shots=1)\n",
    "    result = list(job.result().get_counts(cc))\n",
    "\n",
    "    # Return a and b based on result:\n",
    "    if result[0] == \"00\":\n",
    "        return 0, 0\n",
    "    elif result[0] == \"01\":\n",
    "        return 0, 1\n",
    "    elif result[0] == \"10\":\n",
    "        return 1, 0\n",
    "    else:\n",
    "        return 1, 1"
   ]
  },
  {
   "cell_type": "markdown",
   "id": "4a190583",
   "metadata": {},
   "source": [
    "And now, lets run the games again. We are using a much smaller number of NUM_GAMES here, because we typically have only 10 mins of QPU time for free from IBM. You can increase or decrease the NUM_GAMES based on how much QPU times you have remaining and see the results."
   ]
  },
  {
   "cell_type": "code",
   "execution_count": null,
   "id": "8e8f9b19",
   "metadata": {},
   "outputs": [],
   "source": [
    "NUM_GAMES = 10\n",
    "TOTAL_SCORE_CLASSICAL = 0\n",
    "TOTAL_SCORE_QUANTUM = 0\n",
    "\n",
    "for i in range(NUM_GAMES):\n",
    "    TOTAL_SCORE_CLASSICAL += chsh_game(classical_strategy)\n",
    "    TOTAL_SCORE_QUANTUM += chsh_game(quantum_strategy)\n",
    "\n",
    "print(\"Classical Strategy - Fraction of games won:\", TOTAL_SCORE_CLASSICAL / NUM_GAMES)\n",
    "print(\"Quantum Strategy   - Fraction of games won:\", TOTAL_SCORE_QUANTUM / NUM_GAMES)\n"
   ]
  },
  {
   "cell_type": "markdown",
   "id": "564bcf5f",
   "metadata": {},
   "source": [
    "## Conclusion\n",
    "The CHSH game isn't just a theoretical exercise - it's a real, testable way to distinguish between classical and quantum worlds. The fact that our quantum strategy reliably beats the classical 75% limit offers experimental validation of quantum mechanics. This disproves Einstein’s local hidden variable theories and is one of the clearest demonstrations that the universe behaves in a genuinely non-classical, nonlocal way. And now, you have also re-created the experiments which proved Einstein wrong and led to a Nobel prize, all from the comfort of your own home!\n",
    "\n"
   ]
  },
  {
   "cell_type": "markdown",
   "id": "1d97b451",
   "metadata": {},
   "source": [
    "## References\n",
    "- J. S. Bell (1964). On the Einstein Podolsky Rosen Paradox. Physics Physique, 1(3), 195–200. https://cds.cern.ch/record/111654\n",
    "- J. F. Clauser, M. A. Horne, A. Shimony, R. A. Holt (1969). Proposed Experiment to Test Local Hidden-Variable Theories. Physical Review Letters, 23(15), 880. https://doi.org/10.1103/PhysRevLett.23.880\n",
    "- The Nobel Prize in Physics 2022 – Press Release. NobelPrize.org. https://www.nobelprize.org/prizes/physics/2022/press-release/\n",
    "- Michael Nielsen & Isaac Chuang (2010). Quantum Computation and Quantum Information. Cambridge University Press.\n",
    "(Chapters on Bell inequalities and entanglement)\n",
    "- Qiskit Documentation – Official docs for Qiskit, Aer, and IBM Runtime. https://docs.quantum.ibm.com/\n",
    "- Scott Aaronson’s Lecture Notes - Lecture 14: Nonlocal Games. https://www.scottaaronson.com/qclec.pdf\n",
    "\n",
    "Qiskit v.2.0.1 was used to create this tutorial.\n",
    "\n"
   ]
  }
 ],
 "metadata": {
  "kernelspec": {
   "display_name": "chsh_env",
   "language": "python",
   "name": "python3"
  },
  "language_info": {
   "codemirror_mode": {
    "name": "ipython",
    "version": 3
   },
   "file_extension": ".py",
   "mimetype": "text/x-python",
   "name": "python",
   "nbconvert_exporter": "python",
   "pygments_lexer": "ipython3",
   "version": "3.13.3"
  }
 },
 "nbformat": 4,
 "nbformat_minor": 5
}
